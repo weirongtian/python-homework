{
 "cells": [
  {
   "cell_type": "code",
   "execution_count": 6,
   "metadata": {},
   "outputs": [],
   "source": [
    "# -*- coding: UTF-8 -*-\n",
    "\"\"\"PyRamen Homework Starter.\"\"\"\n",
    "\n",
    "# @TODO: Import libraries\n",
    "import csv\n",
    "from pathlib import Path\n",
    "\n",
    "# @TODO: Set file paths for menu_data.csv and sales_data.csv\n",
    "menu_filepath = Path('menu_data.csv')\n",
    "sales_filepath = Path('sales_data.csv')\n",
    "\n",
    "# @TODO: Initialize list objects to hold our menu and sales data\n",
    "menu = []\n",
    "sales = []\n",
    "\n",
    "# @TODO: Read in the menu data into the menu list\n",
    "\n",
    "with open (menu_filepath,'r') as file:\n",
    "    csvreader=csv.reader(file,delimiter=',')\n",
    "    menu_header=next(csvreader)\n",
    "    for row in csvreader:\n",
    "        menu.append(row)\n",
    "\n",
    "with open(sales_filepath,'r') as file:\n",
    "    csvreader=csv.reader(file,delimiter=',')\n",
    "    sales_header=next(csvreader)\n",
    "    for row in csvreader:\n",
    "        sales.append(row)\n",
    "        \n",
    "report={}\n",
    "        \n",
    "for row in sales:\n",
    "    quantity = int(row[3])\n",
    "    sales_item = row[4]\n",
    "  \n",
    "    if sales_item not in report.keys():\n",
    "        report[sales_item]={\"01-count\": 0,\"02-revenue\": 0,\"03-cogs\": 0,\"04-profit\": 0,}\n",
    "    \n",
    "    for row in menu:\n",
    "        item = row[0]\n",
    "        price = float(row[3])\n",
    "        cost = int(row[4])\n",
    "        profit = price - cost\n",
    "        if item == sales_item:\n",
    "            report[sales_item][\"01-count\"] += quantity\n",
    "            report[sales_item][\"02-revenue\"] += price * quantity\n",
    "            report[sales_item][\"03-cogs\"] += cost * quantity\n",
    "            report[sales_item][\"04-profit\"] += profit * quantity\n",
    "    \n",
    "    #else:\n",
    "        #print(f\"{sales_item} does not equal {item}! NO MATCH!\") \n",
    "\n",
    "report_string=str(report)\n",
    "               \n",
    "output_path=Path(\"report.txt\")\n",
    "with open(output_path,'w') as file:\n",
    "    file.write(report_string)\n"
   ]
  },
  {
   "cell_type": "code",
   "execution_count": null,
   "metadata": {},
   "outputs": [],
   "source": []
  }
 ],
 "metadata": {
  "kernelspec": {
   "display_name": "Python 3",
   "language": "python",
   "name": "python3"
  },
  "language_info": {
   "codemirror_mode": {
    "name": "ipython",
    "version": 3
   },
   "file_extension": ".py",
   "mimetype": "text/x-python",
   "name": "python",
   "nbconvert_exporter": "python",
   "pygments_lexer": "ipython3",
   "version": "3.7.9"
  }
 },
 "nbformat": 4,
 "nbformat_minor": 4
}
