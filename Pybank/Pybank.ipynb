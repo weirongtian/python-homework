{
 "cells": [
  {
   "cell_type": "code",
   "execution_count": 25,
   "metadata": {},
   "outputs": [],
   "source": [
    "from pathlib import Path\n",
    "import csv\n",
    "total_months=0\n",
    "total_profit=0\n",
    "profit=[]\n",
    "max_profit=0\n",
    "max_profit_date=\"\"\n",
    "min_profit=0\n",
    "min_profit_date=\"\"\n",
    "\n",
    "csv_path = Path(\"budget_data.csv\")\n",
    "with open(csv_path,'r') as csvfile:\n",
    "    csvreader=csv.reader(csvfile,delimiter = ',')\n",
    "    header=next(csvreader)\n",
    "    for row in csvreader:\n",
    "        date=row[0]\n",
    "        monthly_profit=int(row[1])\n",
    "        \n",
    "        total_profit += daily_profit\n",
    "        total_months += 1\n",
    "        \n",
    "        if max_profit ==0:\n",
    "            max_profit = monthly_profit\n",
    "            max_profit_date=date\n",
    "        elif max_profit < monthly_profit:\n",
    "            max_profit = monthly_profit\n",
    "            max_profit_date=date\n",
    "        \n",
    "        if min_profit == 0:\n",
    "            min_profit = monthly_profit\n",
    "            min_profit_date = date\n",
    "        elif min_profit > monthly_profit:\n",
    "            min_profit = monthly_profit\n",
    "            min_profit_date = date\n",
    "        \n",
    "        profit.append(monthly_profit)\n",
    "        \n",
    "change_profit = 0\n",
    "for i in range(1,len(profit)):\n",
    "    change_profit += profit[i]-profit[i-1]\n",
    "    \n",
    "average_profit=round(change_profit/total_months,2)\n",
    "\n",
    "output_path=Path(\"output.txt\")\n",
    "\n",
    "with open (output_path,'w') as file:\n",
    "    file.write(\"Financial Analysis\\n\")\n",
    "    file.write(\"------------------\\n\")\n",
    "    file.write(f\"Total Months: {total_months}\\n\")\n",
    "    file.write(f\"Total:${total_profit}\\n\")\n",
    "    file.write(f\"Average Change:${average_profit}\\n\")\n",
    "    file.write(f\"Greatest Increase in Profits: {max_profit_date} ${max_profit}\\n\")\n",
    "    file.write(f\"Greatet Decrease in Profits:{min_profit_date} ${min_profit}\")\n",
    "\n",
    "    "
   ]
  },
  {
   "cell_type": "code",
   "execution_count": null,
   "metadata": {},
   "outputs": [],
   "source": []
  }
 ],
 "metadata": {
  "kernelspec": {
   "display_name": "Python 3",
   "language": "python",
   "name": "python3"
  },
  "language_info": {
   "codemirror_mode": {
    "name": "ipython",
    "version": 3
   },
   "file_extension": ".py",
   "mimetype": "text/x-python",
   "name": "python",
   "nbconvert_exporter": "python",
   "pygments_lexer": "ipython3",
   "version": "3.7.9"
  }
 },
 "nbformat": 4,
 "nbformat_minor": 4
}
